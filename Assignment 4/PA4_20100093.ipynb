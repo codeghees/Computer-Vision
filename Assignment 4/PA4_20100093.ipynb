{
 "cells": [
  {
   "cell_type": "markdown",
   "metadata": {},
   "source": [
    "# CS 436 CS5310 - Computer Vision - Assignment 4\n",
    "\n",
    "*__Submission Instructions:__*\n",
    "- Rename this notebook to `PA4_rollnumber.ipynb` before submission on LMS.\n",
    "- Code for all the tasks must be written in this notebook (you do not need to submit any other files).\n",
    "- The output of all cells must be present in the version of the notebook you submit.\n",
    "- The university honor code should be maintained. Any violation, if found, will result in disciplinary action. "
   ]
  },
  {
   "cell_type": "code",
   "execution_count": 2,
   "metadata": {},
   "outputs": [],
   "source": [
    "#Import all the required libraries\n",
    "\n",
    "import numpy as np\n",
    "%matplotlib inline\n",
    "import matplotlib.pyplot as plt\n",
    "plt.style.use('seaborn')\n",
    "import seaborn as sns\n",
    "from keras.models import load_model, Model\n",
    "from keras.applications import vgg16\n",
    "from keras.layers import Flatten, Dense\n"
   ]
  },
  {
   "cell_type": "code",
   "execution_count": null,
   "metadata": {},
   "outputs": [],
   "source": []
  },
  {
   "cell_type": "markdown",
   "metadata": {
    "toc-hr-collapsed": false
   },
   "source": [
    "## Overview\n",
    "\n",
    "In this assignment you will be exploring a few important concepts used in the deep learning projects:\n",
    "- Training image classification algorithms using Deep Learning\n",
    "- Dataset Analyses \n",
    "- Testing deep learning classifier with the test data\n",
    "- Fine-tuning / Transfer Learning\n",
    "\n",
    "We will be using a customized datasets, the links to download the data are provided to you. You will also be working with pretrained models, which could be downloaded from keras applications. You are **highly** encouraged to explore the images in dataset and model architectures in order to get the most out of this assignment. \n",
    "\n",
    "**_Dataset:_**\n",
    "- D1- Test Data for evaluating the pretrained model (VGG-16) can be found in the folder \"test-multiple_fruits\" [here](https://drive.google.com/drive/folders/1ViePNUqS3LmPkaW6vJ1cRb4YGyIkWpqz?usp=sharing)\n",
    "- D2- Data to be used for fine-tuning VGG-16 for 75 classes of fruits could be downloaded from the same link in the folder \"fruits-trainValidate\"\n",
    "\n",
    "\n",
    "**_Pretrained Models:_** \n",
    "Can be found [here](https://keras.io/applications/#applications)\n"
   ]
  },
  {
   "cell_type": "markdown",
   "metadata": {},
   "source": [
    "## Task 1: Data Preparation\n",
    "\n",
    "Evaluate the performance of a pretrained network (VGG-16) for the test-multiple_fruits data downloaded by predicting labels of each image. You will:\n",
    "- Download the VGG16 model and compile it with pretrained weights from imagenet.\n",
    "- Obtain predictions for the test-multiple_fruits D1 dataset\n",
    "- Print the predictions for all the test image from D1"
   ]
  },
  {
   "cell_type": "code",
   "execution_count": 3,
   "metadata": {},
   "outputs": [
    {
     "name": "stdout",
     "output_type": "stream",
     "text": [
      "WARNING:tensorflow:From C:\\Users\\Moughees\\AppData\\Local\\Continuum\\anaconda3\\envs\\DIP_DEMO\\lib\\site-packages\\tensorflow\\python\\framework\\op_def_library.py:263: colocate_with (from tensorflow.python.framework.ops) is deprecated and will be removed in a future version.\n",
      "Instructions for updating:\n",
      "Colocations handled automatically by placer.\n"
     ]
    }
   ],
   "source": [
    "model = vgg16.VGG16()"
   ]
  },
  {
   "cell_type": "code",
   "execution_count": 26,
   "metadata": {},
   "outputs": [],
   "source": [
    "import os\n",
    "path = \"test-multiple_fruits/test-multiple_fruits\"\n",
    "from keras.preprocessing.image import load_img\n",
    "from keras.preprocessing.image import img_to_array\n",
    "from keras.applications.vgg16 import preprocess_input\n",
    "from keras.applications.vgg16 import decode_predictions\n",
    "from keras.applications.vgg16 import VGG16\n",
    "allimages = os.listdir(path)\n",
    "p_Allimages = []\n",
    "for image in allimages:\n",
    "    p_Allimages.append(path+'/'+image)"
   ]
  },
  {
   "cell_type": "code",
   "execution_count": 5,
   "metadata": {},
   "outputs": [
    {
     "name": "stdout",
     "output_type": "stream",
     "text": [
      "predicted label =  Granny_Smith\n",
      "predicted label =  fig\n",
      "predicted label =  tray\n",
      "predicted label =  pomegranate\n",
      "predicted label =  tray\n",
      "predicted label =  pomegranate\n",
      "predicted label =  butternut_squash\n",
      "predicted label =  pomegranate\n",
      "predicted label =  hip\n",
      "predicted label =  barrow\n",
      "predicted label =  buckeye\n",
      "predicted label =  hip\n",
      "predicted label =  guacamole\n",
      "predicted label =  cucumber\n",
      "predicted label =  teddy\n",
      "predicted label =  strawberry\n",
      "predicted label =  strawberry\n",
      "predicted label =  bucket\n",
      "predicted label =  abacus\n",
      "predicted label =  hotdog\n",
      "predicted label =  fig\n",
      "predicted label =  honeycomb\n",
      "predicted label =  lemon\n",
      "predicted label =  grocery_store\n",
      "predicted label =  Granny_Smith\n",
      "predicted label =  custard_apple\n",
      "predicted label =  Granny_Smith\n",
      "predicted label =  pineapple\n",
      "predicted label =  rotisserie\n",
      "predicted label =  corn\n",
      "predicted label =  pomegranate\n",
      "predicted label =  orange\n",
      "predicted label =  strawberry\n",
      "predicted label =  hip\n",
      "predicted label =  greenhouse\n",
      "predicted label =  mixing_bowl\n",
      "predicted label =  strawberry\n",
      "predicted label =  buckeye\n",
      "predicted label =  strawberry\n",
      "predicted label =  hermit_crab\n",
      "predicted label =  pot\n",
      "predicted label =  daisy\n",
      "predicted label =  pot\n",
      "predicted label =  strawberry\n",
      "predicted label =  orange\n"
     ]
    }
   ],
   "source": [
    "def pretrained_test(model,p_Allimages):\n",
    "    labels=[]\n",
    "    for i in range(len(p_Allimages)):\n",
    "        image = load_img(p_Allimages[i], target_size=(224, 224))\n",
    "        image = img_to_array(image)\n",
    "        image = image.reshape((1, image.shape[0], image.shape[1], image.shape[2]))\n",
    "        image = preprocess_input(image)\n",
    "        pred = model.predict(image)\n",
    "        label = decode_predictions(pred)\n",
    "        label = label[0][0]\n",
    "        labels.append(label[1])\n",
    "#         print('%s (%.2f%%)' % (label[1], label[2]*100))\n",
    "    return labels\n",
    "labels = pretrained_test(model,p_Allimages)\n",
    "for i in range(len(p_Allimages)):\n",
    "    print(\"predicted label = \", labels[i])\n",
    "\n"
   ]
  },
  {
   "cell_type": "markdown",
   "metadata": {},
   "source": [
    "## Batch Generator for Task 2\n",
    "You could either use this batch image generator or could write your own batch generator if required for fine-tunning"
   ]
  },
  {
   "cell_type": "code",
   "execution_count": 3,
   "metadata": {},
   "outputs": [],
   "source": [
    "\n",
    "INPUT_TRAINING_DIRECTORY  = \"fruits-trainValidate/fruits-360/Training\"\n",
    "INPUT_VALIDATION_DIRECTORY = \"fruits-trainValidate/fruits-360/Validation\"\n",
    "IMAGE_SIZE = (100,100)"
   ]
  },
  {
   "cell_type": "code",
   "execution_count": 4,
   "metadata": {},
   "outputs": [
    {
     "name": "stdout",
     "output_type": "stream",
     "text": [
      "Found 37836 images belonging to 75 classes.\n",
      "Found 12709 images belonging to 75 classes.\n"
     ]
    }
   ],
   "source": [
    "# Image Augmentation\n",
    "#Replace the input training/validation directories with the path to your training and validation splits\n",
    "from keras.preprocessing.image import ImageDataGenerator\n",
    "from keras.applications.vgg16 import preprocess_input\n",
    "training_datagen = ImageDataGenerator(\n",
    "                                    rescale=1./255,   # all pixel values will be between 0 an 1\n",
    "                                    shear_range=0.2, \n",
    "                                    zoom_range=0.2,\n",
    "                                    horizontal_flip=True,\n",
    "                                    preprocessing_function=preprocess_input)\n",
    "\n",
    "validation_datagen = ImageDataGenerator(rescale = 1./255, preprocessing_function=preprocess_input)\n",
    "\n",
    "training_generator = training_datagen.flow_from_directory(INPUT_TRAINING_DIRECTORY, target_size = IMAGE_SIZE, batch_size = 200, class_mode = 'categorical')\n",
    "validation_generator = validation_datagen.flow_from_directory(INPUT_VALIDATION_DIRECTORY, target_size = IMAGE_SIZE, batch_size = 200, class_mode = 'categorical')"
   ]
  },
  {
   "cell_type": "markdown",
   "metadata": {},
   "source": [
    "## Task 2: Transfer Learning\n",
    "\n",
    "Next you will employ Transfer Learning and finetune the pretrained vgg-16 model you used in Task1 to better fit the fine-tune dataset D2 for 75 classes of fruits (details available in the readme file of dataset folder). You will:\n",
    "\n",
    "- Change the number of nodes in the last FC layer according to the number of classes i.e. 5 \n",
    "- Freeze everything except the FC layers and train it using the train split of D2 (using appropriate hyperparameters), validating the network for validation split of data.\n",
    "- Train (Finetune) the dataset with training split and validate it using validation split\n",
    "- Plot loss/accuracy vs epochs curves for your simulation\n",
    "\n",
    "*You can use scikit-learn's `metrics.confusion_matrix` function. Consult the relevant documentation.* \n"
   ]
  },
  {
   "cell_type": "code",
   "execution_count": 4,
   "metadata": {},
   "outputs": [
    {
     "name": "stdout",
     "output_type": "stream",
     "text": [
      "WARNING:tensorflow:From C:\\Users\\Moughees\\AppData\\Local\\Continuum\\anaconda3\\envs\\DIP_DEMO\\lib\\site-packages\\tensorflow\\python\\framework\\op_def_library.py:263: colocate_with (from tensorflow.python.framework.ops) is deprecated and will be removed in a future version.\n",
      "Instructions for updating:\n",
      "Colocations handled automatically by placer.\n"
     ]
    }
   ],
   "source": [
    "\n",
    "vgg_imagenet = vgg16.VGG16(include_top=False, weights='imagenet', input_shape = (100,100,3))\n",
    "for layer in vgg_imagenet.layers:\n",
    "    layer.freeze = True\n",
    "    \n",
    "vgg_imagenet.layers[-1].freeze = False\n",
    "flatten = Flatten()(vgg_imagenet.layers[-1].output)\n",
    "dense = Dense(75,activation='softmax')(flatten)\n",
    "new_model = Model(vgg_imagenet.layers[0].input,dense)\n",
    "\n",
    "\n",
    "# print summary and compile\n"
   ]
  },
  {
   "cell_type": "code",
   "execution_count": 5,
   "metadata": {},
   "outputs": [
    {
     "name": "stdout",
     "output_type": "stream",
     "text": [
      "_________________________________________________________________\n",
      "Layer (type)                 Output Shape              Param #   \n",
      "=================================================================\n",
      "input_1 (InputLayer)         (None, 100, 100, 3)       0         \n",
      "_________________________________________________________________\n",
      "block1_conv1 (Conv2D)        (None, 100, 100, 64)      1792      \n",
      "_________________________________________________________________\n",
      "block1_conv2 (Conv2D)        (None, 100, 100, 64)      36928     \n",
      "_________________________________________________________________\n",
      "block1_pool (MaxPooling2D)   (None, 50, 50, 64)        0         \n",
      "_________________________________________________________________\n",
      "block2_conv1 (Conv2D)        (None, 50, 50, 128)       73856     \n",
      "_________________________________________________________________\n",
      "block2_conv2 (Conv2D)        (None, 50, 50, 128)       147584    \n",
      "_________________________________________________________________\n",
      "block2_pool (MaxPooling2D)   (None, 25, 25, 128)       0         \n",
      "_________________________________________________________________\n",
      "block3_conv1 (Conv2D)        (None, 25, 25, 256)       295168    \n",
      "_________________________________________________________________\n",
      "block3_conv2 (Conv2D)        (None, 25, 25, 256)       590080    \n",
      "_________________________________________________________________\n",
      "block3_conv3 (Conv2D)        (None, 25, 25, 256)       590080    \n",
      "_________________________________________________________________\n",
      "block3_pool (MaxPooling2D)   (None, 12, 12, 256)       0         \n",
      "_________________________________________________________________\n",
      "block4_conv1 (Conv2D)        (None, 12, 12, 512)       1180160   \n",
      "_________________________________________________________________\n",
      "block4_conv2 (Conv2D)        (None, 12, 12, 512)       2359808   \n",
      "_________________________________________________________________\n",
      "block4_conv3 (Conv2D)        (None, 12, 12, 512)       2359808   \n",
      "_________________________________________________________________\n",
      "block4_pool (MaxPooling2D)   (None, 6, 6, 512)         0         \n",
      "_________________________________________________________________\n",
      "block5_conv1 (Conv2D)        (None, 6, 6, 512)         2359808   \n",
      "_________________________________________________________________\n",
      "block5_conv2 (Conv2D)        (None, 6, 6, 512)         2359808   \n",
      "_________________________________________________________________\n",
      "block5_conv3 (Conv2D)        (None, 6, 6, 512)         2359808   \n",
      "_________________________________________________________________\n",
      "block5_pool (MaxPooling2D)   (None, 3, 3, 512)         0         \n",
      "_________________________________________________________________\n",
      "flatten_1 (Flatten)          (None, 4608)              0         \n",
      "_________________________________________________________________\n",
      "dense_1 (Dense)              (None, 75)                345675    \n",
      "=================================================================\n",
      "Total params: 15,060,363\n",
      "Trainable params: 15,060,363\n",
      "Non-trainable params: 0\n",
      "_________________________________________________________________\n"
     ]
    }
   ],
   "source": [
    "new_model.summary()"
   ]
  },
  {
   "cell_type": "code",
   "execution_count": 8,
   "metadata": {},
   "outputs": [
    {
     "name": "stderr",
     "output_type": "stream",
     "text": [
      "C:\\Users\\Moughees\\AppData\\Local\\Continuum\\anaconda3\\envs\\DIP_DEMO\\lib\\site-packages\\ipykernel_launcher.py:7: UserWarning: The semantics of the Keras 2 argument `steps_per_epoch` is not the same as the Keras 1 argument `samples_per_epoch`. `steps_per_epoch` is the number of batches to draw from the generator at each epoch. Basically steps_per_epoch = samples_per_epoch/batch_size. Similarly `nb_val_samples`->`validation_steps` and `val_samples`->`steps` arguments have changed. Update your method calls accordingly.\n",
      "  import sys\n",
      "C:\\Users\\Moughees\\AppData\\Local\\Continuum\\anaconda3\\envs\\DIP_DEMO\\lib\\site-packages\\ipykernel_launcher.py:7: UserWarning: Update your `fit_generator` call to the Keras 2 API: `fit_generator(generator=<keras_pre..., validation_data=<keras_pre..., steps_per_epoch=50, validation_steps=10, epochs=10)`\n",
      "  import sys\n"
     ]
    },
    {
     "name": "stdout",
     "output_type": "stream",
     "text": [
      "Epoch 1/10\n",
      "50/50 [==============================] - 1492s 30s/step - loss: 2.8704 - acc: 0.2465 - val_loss: 1.4264 - val_acc: 0.5515\n",
      "Epoch 2/10\n",
      "50/50 [==============================] - 1714s 34s/step - loss: 1.2902 - acc: 0.5851 - val_loss: 0.8396 - val_acc: 0.7455\n",
      "Epoch 3/10\n",
      "50/50 [==============================] - 1489s 30s/step - loss: 0.6648 - acc: 0.7761 - val_loss: 0.6019 - val_acc: 0.8110\n",
      "Epoch 4/10\n",
      "50/50 [==============================] - 1500s 30s/step - loss: 0.4236 - acc: 0.8555 - val_loss: 0.6421 - val_acc: 0.8355\n",
      "Epoch 5/10\n",
      "50/50 [==============================] - 1503s 30s/step - loss: 0.2733 - acc: 0.9069 - val_loss: 0.4048 - val_acc: 0.8968\n",
      "Epoch 6/10\n",
      "50/50 [==============================] - 1487s 30s/step - loss: 0.2240 - acc: 0.9232 - val_loss: 0.5230 - val_acc: 0.8530\n",
      "Epoch 7/10\n",
      "50/50 [==============================] - 1508s 30s/step - loss: 0.2318 - acc: 0.9214 - val_loss: 0.3174 - val_acc: 0.9100\n",
      "Epoch 8/10\n",
      "50/50 [==============================] - 1513s 30s/step - loss: 0.1493 - acc: 0.9501 - val_loss: 0.2901 - val_acc: 0.9110\n",
      "Epoch 9/10\n",
      "50/50 [==============================] - 1516s 30s/step - loss: 0.1595 - acc: 0.9451 - val_loss: 0.3407 - val_acc: 0.9185\n",
      "Epoch 10/10\n",
      "50/50 [==============================] - 1491s 30s/step - loss: 0.1346 - acc: 0.9525 - val_loss: 0.3252 - val_acc: 0.9195\n"
     ]
    }
   ],
   "source": [
    "new_model.compile(loss=\"categorical_crossentropy\",optimizer = \"Adam\" ,metrics=[\"accuracy\"])\n",
    " \n",
    "history = new_model.fit_generator(generator = training_generator,\n",
    "                        validation_data=validation_generator,\n",
    "                        steps_per_epoch = 50,\n",
    "                        nb_epoch=10,\n",
    "                        validation_steps = 10\n",
    "                       )\n",
    "new_model.save_weights('weights.h5')\n"
   ]
  },
  {
   "cell_type": "code",
   "execution_count": 11,
   "metadata": {},
   "outputs": [],
   "source": [
    "#Loss accuracy curves using matplot lib\n",
    "new_model.save(\"model.h5\")"
   ]
  },
  {
   "cell_type": "code",
   "execution_count": 29,
   "metadata": {},
   "outputs": [
    {
     "ename": "NameError",
     "evalue": "name 'history' is not defined",
     "output_type": "error",
     "traceback": [
      "\u001b[1;31m---------------------------------------------------------------------------\u001b[0m",
      "\u001b[1;31mNameError\u001b[0m                                 Traceback (most recent call last)",
      "\u001b[1;32m<ipython-input-29-d57502584511>\u001b[0m in \u001b[0;36m<module>\u001b[1;34m\u001b[0m\n\u001b[1;32m----> 1\u001b[1;33m \u001b[0mprint\u001b[0m\u001b[1;33m(\u001b[0m\u001b[0mhistory\u001b[0m\u001b[1;33m.\u001b[0m\u001b[0mhistory\u001b[0m\u001b[1;33m[\u001b[0m\u001b[1;34m'loss'\u001b[0m\u001b[1;33m]\u001b[0m\u001b[1;33m)\u001b[0m\u001b[1;33m\u001b[0m\u001b[1;33m\u001b[0m\u001b[0m\n\u001b[0m\u001b[0;32m      2\u001b[0m \u001b[0mloss\u001b[0m \u001b[1;33m=\u001b[0m \u001b[0mhistory\u001b[0m\u001b[1;33m.\u001b[0m\u001b[0mhistory\u001b[0m\u001b[1;33m[\u001b[0m\u001b[1;34m'acc'\u001b[0m\u001b[1;33m]\u001b[0m\u001b[1;33m\u001b[0m\u001b[1;33m\u001b[0m\u001b[0m\n\u001b[0;32m      3\u001b[0m \u001b[0mepochs\u001b[0m \u001b[1;33m=\u001b[0m \u001b[1;33m[\u001b[0m\u001b[0mx\u001b[0m \u001b[1;32mfor\u001b[0m \u001b[0mx\u001b[0m \u001b[1;32min\u001b[0m \u001b[0mrange\u001b[0m\u001b[1;33m(\u001b[0m\u001b[1;36m10\u001b[0m\u001b[1;33m)\u001b[0m\u001b[1;33m]\u001b[0m\u001b[1;33m\u001b[0m\u001b[1;33m\u001b[0m\u001b[0m\n\u001b[0;32m      4\u001b[0m \u001b[0mprint\u001b[0m\u001b[1;33m(\u001b[0m\u001b[0mepochs\u001b[0m\u001b[1;33m)\u001b[0m\u001b[1;33m\u001b[0m\u001b[1;33m\u001b[0m\u001b[0m\n\u001b[0;32m      5\u001b[0m \u001b[0mplt\u001b[0m\u001b[1;33m.\u001b[0m\u001b[0mplot\u001b[0m\u001b[1;33m(\u001b[0m\u001b[0mepochs\u001b[0m\u001b[1;33m,\u001b[0m\u001b[0mloss\u001b[0m\u001b[1;33m)\u001b[0m\u001b[1;33m\u001b[0m\u001b[1;33m\u001b[0m\u001b[0m\n",
      "\u001b[1;31mNameError\u001b[0m: name 'history' is not defined"
     ]
    }
   ],
   "source": [
    "print(history.history['loss'])\n",
    "loss = history.history['acc']\n",
    "epochs = [x for x in range(10)]\n",
    "print(epochs)\n",
    "plt.plot(epochs,loss)\n",
    "plt.title('Accuracy')\n",
    "plt.show()"
   ]
  },
  {
   "cell_type": "markdown",
   "metadata": {},
   "source": [
    "## Task 3: Network Evaluation\n",
    "\n",
    "Next you will test your finetuned model by plotting a confusion matrix between classes predicted. You will:\n",
    "\n",
    "- Load the saved finetuned network\n",
    "- Test your model for images in validation folder of D2\n",
    "- Construct a multiclass confusion matrix (for any 10 classes) for actual and predicted class of each image and visualize the confmatrix as a heatmap\n",
    "\n",
    "*You can use scikit-learn's `metrics.confusion_matrix` function. Consult the relevant documentation.* "
   ]
  },
  {
   "cell_type": "code",
   "execution_count": 7,
   "metadata": {},
   "outputs": [
    {
     "name": "stdout",
     "output_type": "stream",
     "text": [
      "WARNING:tensorflow:From C:\\Users\\Moughees\\AppData\\Local\\Continuum\\anaconda3\\envs\\DIP_DEMO\\lib\\site-packages\\tensorflow\\python\\framework\\op_def_library.py:263: colocate_with (from tensorflow.python.framework.ops) is deprecated and will be removed in a future version.\n",
      "Instructions for updating:\n",
      "Colocations handled automatically by placer.\n",
      "WARNING:tensorflow:From C:\\Users\\Moughees\\AppData\\Local\\Continuum\\anaconda3\\envs\\DIP_DEMO\\lib\\site-packages\\tensorflow\\python\\ops\\math_ops.py:3066: to_int32 (from tensorflow.python.ops.math_ops) is deprecated and will be removed in a future version.\n",
      "Instructions for updating:\n",
      "Use tf.cast instead.\n"
     ]
    }
   ],
   "source": [
    "model = load_model('model.h5')\n"
   ]
  },
  {
   "cell_type": "code",
   "execution_count": 14,
   "metadata": {},
   "outputs": [],
   "source": [
    "# model.evaluate_generator(validation_generator,steps = 50,verbose =1)"
   ]
  },
  {
   "cell_type": "code",
   "execution_count": 9,
   "metadata": {},
   "outputs": [
    {
     "name": "stdout",
     "output_type": "stream",
     "text": [
      "Found 12709 images belonging to 75 classes.\n"
     ]
    }
   ],
   "source": [
    "val_gen = validation_datagen.flow_from_directory(INPUT_VALIDATION_DIRECTORY,\n",
    "                                                              target_size = IMAGE_SIZE, \n",
    "                                                              batch_size = 200,\n",
    "                                                              class_mode = 'categorical')"
   ]
  },
  {
   "cell_type": "code",
   "execution_count": 12,
   "metadata": {},
   "outputs": [
    {
     "name": "stdout",
     "output_type": "stream",
     "text": [
      "(12709,)\n"
     ]
    }
   ],
   "source": [
    "print(val_gen.classes.shape)"
   ]
  },
  {
   "cell_type": "code",
   "execution_count": 13,
   "metadata": {},
   "outputs": [
    {
     "name": "stdout",
     "output_type": "stream",
     "text": [
      "64/64 [==============================] - 1855s 29s/step\n"
     ]
    }
   ],
   "source": [
    "predictions = model.predict_generator(val_gen,\n",
    "                        steps = len(val_gen),\n",
    "                        verbose =1)\n"
   ]
  },
  {
   "cell_type": "code",
   "execution_count": 31,
   "metadata": {},
   "outputs": [],
   "source": [
    "# preds = model.predict_generator(validation_generator,\n",
    "#                         steps = 50,\n",
    "#                         verbose =1)\n"
   ]
  },
  {
   "cell_type": "code",
   "execution_count": 15,
   "metadata": {},
   "outputs": [
    {
     "name": "stdout",
     "output_type": "stream",
     "text": [
      "(12709, 75)\n",
      "(12709,)\n"
     ]
    }
   ],
   "source": [
    "print(predictions.shape)\n",
    "ypred = np.argmax(predictions, axis=1)\n",
    "print(ypred.shape)"
   ]
  },
  {
   "cell_type": "code",
   "execution_count": 16,
   "metadata": {},
   "outputs": [
    {
     "name": "stdout",
     "output_type": "stream",
     "text": [
      "(12709,)\n"
     ]
    }
   ],
   "source": [
    "ytrue = val_gen.classes\n",
    "# ytruee = ytrue[\\/:9909]\n",
    "print(ytrue.shape)\n"
   ]
  },
  {
   "cell_type": "code",
   "execution_count": 17,
   "metadata": {},
   "outputs": [],
   "source": [
    "from sklearn.metrics import confusion_matrix\n",
    "\n"
   ]
  },
  {
   "cell_type": "code",
   "execution_count": 19,
   "metadata": {},
   "outputs": [],
   "source": [
    "cm = confusion_matrix(ytrue,ypred)\n"
   ]
  },
  {
   "cell_type": "code",
   "execution_count": 21,
   "metadata": {},
   "outputs": [
    {
     "data": {
      "text/plain": [
       "<matplotlib.axes._subplots.AxesSubplot at 0x1b222f5db70>"
      ]
     },
     "execution_count": 21,
     "metadata": {},
     "output_type": "execute_result"
    },
    {
     "data": {
      "image/png": "[encoded data removed]",
      "text/plain": [
       "<Figure size 432x288 with 2 Axes>"
      ]
     },
     "metadata": {
      "needs_background": "light"
     },
     "output_type": "display_data"
    }
   ],
   "source": [
    "sns.heatmap(cm)\n"
   ]
  },
  {
   "cell_type": "markdown",
   "metadata": {},
   "source": [
    "The accuracy is 91 percent"
   ]
  },
  {
   "cell_type": "markdown",
   "metadata": {},
   "source": [
    "## Task 4: Prediction\n",
    "\n",
    "Next you will test your finetuned model for test-multiple_fruits images and compare the result with the results of Task 1. You will:\n",
    "\n",
    "- Predict labels for images in test-multiple_fruits D1 folder using finetuned network\n",
    "- Compare your result qualitativly and quatitatively (by visualizing some of the comparing images with their respective labels)\n",
    "- Analyse and discuss the improvement of results (if found any)\n"
   ]
  },
  {
   "cell_type": "code",
   "execution_count": 24,
   "metadata": {},
   "outputs": [
    {
     "name": "stdout",
     "output_type": "stream",
     "text": [
      "{0: 'Apple Braeburn', 1: 'Apple Golden 1', 2: 'Apple Golden 2', 3: 'Apple Golden 3', 4: 'Apple Granny Smith', 5: 'Apple Red 1', 6: 'Apple Red 2', 7: 'Apple Red 3', 8: 'Apple Red Delicious', 9: 'Apple Red Yellow', 10: 'Apricot', 11: 'Avocado', 12: 'Avocado ripe', 13: 'Banana', 14: 'Banana Red', 15: 'Cactus fruit', 16: 'Cantaloupe 1', 17: 'Cantaloupe 2', 18: 'Carambula', 19: 'Cherry 1', 20: 'Cherry 2', 21: 'Cherry Rainier', 22: 'Cherry Wax Black', 23: 'Cherry Wax Red', 24: 'Cherry Wax Yellow', 25: 'Clementine', 26: 'Cocos', 27: 'Dates', 28: 'Granadilla', 29: 'Grape Pink', 30: 'Grape White', 31: 'Grape White 2', 32: 'Grapefruit Pink', 33: 'Grapefruit White', 34: 'Guava', 35: 'Huckleberry', 36: 'Kaki', 37: 'Kiwi', 38: 'Kumquats', 39: 'Lemon', 40: 'Lemon Meyer', 41: 'Limes', 42: 'Lychee', 43: 'Mandarine', 44: 'Mango', 45: 'Maracuja', 46: 'Melon Piel de Sapo', 47: 'Mulberry', 48: 'Nectarine', 49: 'Orange', 50: 'Papaya', 51: 'Passion Fruit', 52: 'Peach', 53: 'Peach Flat', 54: 'Pear', 55: 'Pear Abate', 56: 'Pear Monster', 57: 'Pear Williams', 58: 'Pepino', 59: 'Physalis', 60: 'Physalis with Husk', 61: 'Pineapple', 62: 'Pineapple Mini', 63: 'Pitahaya Red', 64: 'Plum', 65: 'Pomegranate', 66: 'Quince', 67: 'Rambutan', 68: 'Raspberry', 69: 'Salak', 70: 'Strawberry', 71: 'Strawberry Wedge', 72: 'Tamarillo', 73: 'Tangelo', 74: 'Walnut'}\n"
     ]
    }
   ],
   "source": [
    "labels = (training_generator.class_indices)\n",
    "maps = dict((v,k) for k,v in labels.items())\n",
    "# predictions = [labels[k] for k in predicted_class_indices]\n",
    "print(maps)"
   ]
  },
  {
   "cell_type": "code",
   "execution_count": 28,
   "metadata": {},
   "outputs": [
    {
     "name": "stdout",
     "output_type": "stream",
     "text": [
      "predicted label =  Quince\n",
      "predicted label =  Cherry 2\n",
      "predicted label =  Kaki\n",
      "predicted label =  Kaki\n",
      "predicted label =  Kaki\n",
      "predicted label =  Kaki\n",
      "predicted label =  Kaki\n",
      "predicted label =  Kaki\n",
      "predicted label =  Kaki\n",
      "predicted label =  Carambula\n",
      "predicted label =  Banana\n",
      "predicted label =  Pitahaya Red\n",
      "predicted label =  Kaki\n",
      "predicted label =  Kaki\n",
      "predicted label =  Cherry Rainier\n",
      "predicted label =  Pitahaya Red\n",
      "predicted label =  Granadilla\n",
      "predicted label =  Kaki\n",
      "predicted label =  Kaki\n",
      "predicted label =  Nectarine\n",
      "predicted label =  Kaki\n",
      "predicted label =  Banana Red\n",
      "predicted label =  Kaki\n",
      "predicted label =  Carambula\n",
      "predicted label =  Carambula\n",
      "predicted label =  Kaki\n",
      "predicted label =  Carambula\n",
      "predicted label =  Quince\n",
      "predicted label =  Granadilla\n",
      "predicted label =  Raspberry\n",
      "predicted label =  Kaki\n",
      "predicted label =  Kaki\n",
      "predicted label =  Pitahaya Red\n",
      "predicted label =  Carambula\n",
      "predicted label =  Raspberry\n",
      "predicted label =  Clementine\n",
      "predicted label =  Nectarine\n",
      "predicted label =  Carambula\n",
      "predicted label =  Kaki\n",
      "predicted label =  Apple Red Delicious\n",
      "predicted label =  Mandarine\n",
      "predicted label =  Banana Red\n",
      "predicted label =  Kaki\n",
      "predicted label =  Pitahaya Red\n",
      "predicted label =  Kaki\n"
     ]
    }
   ],
   "source": [
    "def pretrained_test(model,p_Allimages):\n",
    "    labels=[]\n",
    "    for i in range(len(p_Allimages)):\n",
    "        image = load_img(p_Allimages[i], target_size=(100, 100))\n",
    "        image = img_to_array(image)\n",
    "        image = image.reshape((1, image.shape[0], image.shape[1], image.shape[2]))\n",
    "        image = preprocess_input(image)\n",
    "        pred = model.predict(image)\n",
    "        label = np.argmax(pred)\n",
    "#         label = label[0][0]\n",
    "        labels.append(label)\n",
    "#         print('%s (%.2f%%)' % (label[1], label[2]*100))\n",
    "    return labels\n",
    "labels = pretrained_test(model,p_Allimages)\n",
    "for i in range(len(p_Allimages)):\n",
    "    print(\"predicted label = \", maps[labels[i]])\n",
    "\n"
   ]
  },
  {
   "cell_type": "markdown",
   "metadata": {},
   "source": [
    "As seen, the predicted values have improved.\n"
   ]
  },
  {
   "cell_type": "code",
   "execution_count": null,
   "metadata": {},
   "outputs": [],
   "source": []
  }
 ],
 "metadata": {
  "kernelspec": {
   "display_name": "Python 3",
   "language": "python",
   "name": "python3"
  },
  "language_info": {
   "codemirror_mode": {
    "name": "ipython",
    "version": 3
   },
   "file_extension": ".py",
   "mimetype": "text/x-python",
   "name": "python",
   "nbconvert_exporter": "python",
   "pygments_lexer": "ipython3",
   "version": "3.6.8"
  }
 },
 "nbformat": 4,
 "nbformat_minor": 2
}
